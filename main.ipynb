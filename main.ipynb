{
 "cells": [
  {
   "cell_type": "code",
   "execution_count": 1,
   "metadata": {},
   "outputs": [],
   "source": [
    "import os\n",
    "ON_KAGGLE = os.path.exists('/kaggle/input')\n",
    "os.environ[\"ON_KAGGLE\"] = str(ON_KAGGLE)\n",
    "PWD = os.getcwd()\n",
    "os.environ[\"PROJECT_ROOT\"] = '/kaggle/input/aimo_gaz' if ON_KAGGLE else PWD"
   ]
  },
  {
   "cell_type": "code",
   "execution_count": 5,
   "metadata": {},
   "outputs": [
    {
     "name": "stdout",
     "output_type": "stream",
     "text": [
      "Looking in indexes: https://pypi.org/simple, https://download.pytorch.org/whl/cu121\n",
      "Requirement already satisfied: hatchling in ./.conda/lib/python3.10/site-packages (from -r requirements.txt (line 3)) (1.24.2)\n",
      "Requirement already satisfied: torch==2.1.1 in ./.conda/lib/python3.10/site-packages (from -r requirements.txt (line 4)) (2.1.1+cu121)\n",
      "Requirement already satisfied: accelerate==0.29.1 in ./.conda/lib/python3.10/site-packages (from -r requirements.txt (line 5)) (0.29.1)\n",
      "Requirement already satisfied: bitsandbytes==0.42.0 in ./.conda/lib/python3.10/site-packages (from -r requirements.txt (line 6)) (0.42.0)\n",
      "Requirement already satisfied: transformers==4.39.3 in ./.conda/lib/python3.10/site-packages (from -r requirements.txt (line 7)) (4.39.3)\n",
      "Requirement already satisfied: ray==2.4.0 in /home/amthakur/.local/lib/python3.10/site-packages (from -r requirements.txt (line 8)) (2.4.0)\n",
      "Requirement already satisfied: tqdm>=4.27 in /home/amthakur/.local/lib/python3.10/site-packages (from -r requirements.txt (line 9)) (4.65.0)\n",
      "Requirement already satisfied: hydra-core>=1.0.0 in /home/amthakur/.local/lib/python3.10/site-packages (from -r requirements.txt (line 10)) (1.3.2)\n",
      "Requirement already satisfied: omegaconf>=2.0.1 in /home/amthakur/.local/lib/python3.10/site-packages (from -r requirements.txt (line 11)) (2.3.0)\n",
      "Requirement already satisfied: rank_bm25==0.2.2 in /home/amthakur/.local/lib/python3.10/site-packages (from -r requirements.txt (line 12)) (0.2.2)\n",
      "Requirement already satisfied: parglare==0.16.1 in /home/amthakur/.local/lib/python3.10/site-packages (from -r requirements.txt (line 13)) (0.16.1)\n",
      "Requirement already satisfied: psutil==5.9.5 in /home/amthakur/.local/lib/python3.10/site-packages (from -r requirements.txt (line 14)) (5.9.5)\n",
      "Requirement already satisfied: urllib3>=2.0.7 in /home/amthakur/.local/lib/python3.10/site-packages (from -r requirements.txt (line 15)) (2.1.0)\n",
      "Requirement already satisfied: pydantic==1.10.13 in ./.conda/lib/python3.10/site-packages (from -r requirements.txt (line 16)) (1.10.13)\n",
      "Requirement already satisfied: typer==0.4.0 in ./.conda/lib/python3.10/site-packages (from -r requirements.txt (line 17)) (0.4.0)\n",
      "Requirement already satisfied: filelock in /home/amthakur/.local/lib/python3.10/site-packages (from torch==2.1.1->-r requirements.txt (line 4)) (3.12.4)\n",
      "Requirement already satisfied: typing-extensions in ./.conda/lib/python3.10/site-packages (from torch==2.1.1->-r requirements.txt (line 4)) (4.12.2)\n",
      "Requirement already satisfied: sympy in /home/amthakur/.local/lib/python3.10/site-packages (from torch==2.1.1->-r requirements.txt (line 4)) (1.12)\n",
      "Requirement already satisfied: networkx in /home/amthakur/.local/lib/python3.10/site-packages (from torch==2.1.1->-r requirements.txt (line 4)) (3.1)\n",
      "Requirement already satisfied: jinja2 in /home/amthakur/.local/lib/python3.10/site-packages (from torch==2.1.1->-r requirements.txt (line 4)) (3.1.2)\n",
      "Requirement already satisfied: fsspec in /home/amthakur/.local/lib/python3.10/site-packages (from torch==2.1.1->-r requirements.txt (line 4)) (2023.6.0)\n",
      "Requirement already satisfied: triton==2.1.0 in ./.conda/lib/python3.10/site-packages (from torch==2.1.1->-r requirements.txt (line 4)) (2.1.0)\n",
      "Requirement already satisfied: numpy>=1.17 in ./.conda/lib/python3.10/site-packages (from accelerate==0.29.1->-r requirements.txt (line 5)) (2.0.0)\n",
      "Requirement already satisfied: packaging>=20.0 in ./.conda/lib/python3.10/site-packages (from accelerate==0.29.1->-r requirements.txt (line 5)) (24.1)\n",
      "Requirement already satisfied: pyyaml in /home/amthakur/.local/lib/python3.10/site-packages (from accelerate==0.29.1->-r requirements.txt (line 5)) (6.0.1)\n",
      "Requirement already satisfied: huggingface-hub in ./.conda/lib/python3.10/site-packages (from accelerate==0.29.1->-r requirements.txt (line 5)) (0.23.4)\n",
      "Requirement already satisfied: safetensors>=0.3.1 in ./.conda/lib/python3.10/site-packages (from accelerate==0.29.1->-r requirements.txt (line 5)) (0.4.3)\n",
      "Requirement already satisfied: scipy in ./.conda/lib/python3.10/site-packages (from bitsandbytes==0.42.0->-r requirements.txt (line 6)) (1.13.1)\n",
      "Requirement already satisfied: regex!=2019.12.17 in /home/amthakur/.local/lib/python3.10/site-packages (from transformers==4.39.3->-r requirements.txt (line 7)) (2023.10.3)\n",
      "Requirement already satisfied: requests in /home/amthakur/.local/lib/python3.10/site-packages (from transformers==4.39.3->-r requirements.txt (line 7)) (2.31.0)\n",
      "Requirement already satisfied: tokenizers<0.19,>=0.14 in ./.conda/lib/python3.10/site-packages (from transformers==4.39.3->-r requirements.txt (line 7)) (0.15.2)\n",
      "Requirement already satisfied: attrs in /home/amthakur/.local/lib/python3.10/site-packages (from ray==2.4.0->-r requirements.txt (line 8)) (23.1.0)\n",
      "Requirement already satisfied: click>=7.0 in /home/amthakur/.local/lib/python3.10/site-packages (from ray==2.4.0->-r requirements.txt (line 8)) (8.1.6)\n",
      "Requirement already satisfied: jsonschema in /home/amthakur/.local/lib/python3.10/site-packages (from ray==2.4.0->-r requirements.txt (line 8)) (4.18.5)\n",
      "Requirement already satisfied: msgpack<2.0.0,>=1.0.0 in /home/amthakur/.local/lib/python3.10/site-packages (from ray==2.4.0->-r requirements.txt (line 8)) (1.0.5)\n",
      "Requirement already satisfied: protobuf!=3.19.5,>=3.15.3 in ./.conda/lib/python3.10/site-packages (from ray==2.4.0->-r requirements.txt (line 8)) (5.27.1)\n",
      "Requirement already satisfied: aiosignal in /home/amthakur/.local/lib/python3.10/site-packages (from ray==2.4.0->-r requirements.txt (line 8)) (1.3.1)\n",
      "Requirement already satisfied: frozenlist in /home/amthakur/.local/lib/python3.10/site-packages (from ray==2.4.0->-r requirements.txt (line 8)) (1.4.0)\n",
      "Requirement already satisfied: virtualenv<20.21.1,>=20.0.24 in /home/amthakur/.local/lib/python3.10/site-packages (from ray==2.4.0->-r requirements.txt (line 8)) (20.21.0)\n",
      "Requirement already satisfied: grpcio<=1.51.3,>=1.42.0 in /home/amthakur/.local/lib/python3.10/site-packages (from ray==2.4.0->-r requirements.txt (line 8)) (1.51.3)\n",
      "Requirement already satisfied: pathspec>=0.10.1 in ./.conda/lib/python3.10/site-packages (from hatchling->-r requirements.txt (line 3)) (0.12.1)\n",
      "Requirement already satisfied: pluggy>=1.0.0 in ./.conda/lib/python3.10/site-packages (from hatchling->-r requirements.txt (line 3)) (1.5.0)\n",
      "Requirement already satisfied: tomli>=1.2.2 in ./.conda/lib/python3.10/site-packages (from hatchling->-r requirements.txt (line 3)) (2.0.1)\n",
      "Requirement already satisfied: trove-classifiers in ./.conda/lib/python3.10/site-packages (from hatchling->-r requirements.txt (line 3)) (2024.5.22)\n",
      "Requirement already satisfied: antlr4-python3-runtime==4.9.* in /home/amthakur/.local/lib/python3.10/site-packages (from hydra-core>=1.0.0->-r requirements.txt (line 10)) (4.9.3)\n",
      "Requirement already satisfied: distlib<1,>=0.3.6 in /home/amthakur/.local/lib/python3.10/site-packages (from virtualenv<20.21.1,>=20.0.24->ray==2.4.0->-r requirements.txt (line 8)) (0.3.7)\n",
      "Requirement already satisfied: platformdirs<4,>=2.4 in /home/amthakur/.local/lib/python3.10/site-packages (from virtualenv<20.21.1,>=20.0.24->ray==2.4.0->-r requirements.txt (line 8)) (3.10.0)\n",
      "Requirement already satisfied: MarkupSafe>=2.0 in /home/amthakur/.local/lib/python3.10/site-packages (from jinja2->torch==2.1.1->-r requirements.txt (line 4)) (2.1.3)\n",
      "Requirement already satisfied: jsonschema-specifications>=2023.03.6 in /home/amthakur/.local/lib/python3.10/site-packages (from jsonschema->ray==2.4.0->-r requirements.txt (line 8)) (2023.7.1)\n",
      "Requirement already satisfied: referencing>=0.28.4 in /home/amthakur/.local/lib/python3.10/site-packages (from jsonschema->ray==2.4.0->-r requirements.txt (line 8)) (0.30.0)\n",
      "Requirement already satisfied: rpds-py>=0.7.1 in /home/amthakur/.local/lib/python3.10/site-packages (from jsonschema->ray==2.4.0->-r requirements.txt (line 8)) (0.9.2)\n",
      "Requirement already satisfied: charset-normalizer<4,>=2 in /home/amthakur/.local/lib/python3.10/site-packages (from requests->transformers==4.39.3->-r requirements.txt (line 7)) (3.2.0)\n",
      "Requirement already satisfied: idna<4,>=2.5 in /home/amthakur/.local/lib/python3.10/site-packages (from requests->transformers==4.39.3->-r requirements.txt (line 7)) (3.4)\n",
      "Requirement already satisfied: certifi>=2017.4.17 in /home/amthakur/.local/lib/python3.10/site-packages (from requests->transformers==4.39.3->-r requirements.txt (line 7)) (2023.7.22)\n",
      "Requirement already satisfied: mpmath>=0.19 in /home/amthakur/.local/lib/python3.10/site-packages (from sympy->torch==2.1.1->-r requirements.txt (line 4)) (1.3.0)\n",
      "Processing /home/amthakur/Project/aimo\n",
      "  Installing build dependencies ... \u001b[?25ldone\n",
      "\u001b[?25h  Getting requirements to build wheel ... \u001b[?25ldone\n",
      "\u001b[?25h  Preparing metadata (pyproject.toml) ... \u001b[?25ldone\n",
      "\u001b[?25hBuilding wheels for collected packages: aimo_gaz\n",
      "  Building wheel for aimo_gaz (pyproject.toml) ... \u001b[?25ldone\n",
      "\u001b[?25h  Created wheel for aimo_gaz: filename=aimo_gaz-0.0.1-py3-none-any.whl size=2529 sha256=007c2c54d3f66efaabd84c0aad6f73f4835d08366de4ecab640cf1845f34b068\n",
      "  Stored in directory: /tmp/pip-ephem-wheel-cache-1sm3urz3/wheels/05/49/78/4a819b99316edb6c6bae239a8357cc32f152b30d4d75955488\n",
      "Successfully built aimo_gaz\n",
      "Installing collected packages: aimo_gaz\n",
      "  Attempting uninstall: aimo_gaz\n",
      "    Found existing installation: aimo_gaz 0.0.1\n",
      "    Uninstalling aimo_gaz-0.0.1:\n",
      "      Successfully uninstalled aimo_gaz-0.0.1\n",
      "Successfully installed aimo_gaz-0.0.1\n"
     ]
    }
   ],
   "source": [
    "# Install required packages if on Kaggle\n",
    "if ON_KAGGLE:\n",
    "    !pip install -U /kaggle/input/accelerate-wheelwhl/accelerate-0.29.1-py3-none-any.whl -qq\n",
    "    !pip install -U /kaggle/input/bitsandbytes-0-42-0-py3-none-any-whl/bitsandbytes-0.42.0-py3-none-any.whl -qq\n",
    "    !pip install -U /kaggle/input/hydracore120py3\n",
    "    !pip install -U /kaggle/input/omegaconf222py3/omegaconf-2.2.2-py3-none-any.whl\n",
    "    !pip install -U /kaggle/input/parglare-0-18-0/parglare-0.18.0-py3-none-any.whl\n",
    "    !pip install -U /kaggle/input/rank-bm25-whl/rank_bm25-0.2.2-py3-none-any.whl\n",
    "else:\n",
    "    !pip install -r requirements.txt\n",
    "# Change to the project root directory\n",
    "os.chdir(os.environ[\"PROJECT_ROOT\"])\n",
    "!pip install . --no-deps --force-reinstall"
   ]
  },
  {
   "cell_type": "code",
   "execution_count": 4,
   "metadata": {},
   "outputs": [
    {
     "name": "stdout",
     "output_type": "stream",
     "text": [
      "PyTorch version: 2.1.1+cu121\n",
      "Hello World!\n"
     ]
    }
   ],
   "source": [
    "from aimo_gaz.models.llm_helper import hello_world\n",
    "\n",
    "hello_world()"
   ]
  }
 ],
 "metadata": {
  "kernelspec": {
   "display_name": "Python 3",
   "language": "python",
   "name": "python3"
  },
  "language_info": {
   "codemirror_mode": {
    "name": "ipython",
    "version": 3
   },
   "file_extension": ".py",
   "mimetype": "text/x-python",
   "name": "python",
   "nbconvert_exporter": "python",
   "pygments_lexer": "ipython3",
   "version": "3.10.14"
  }
 },
 "nbformat": 4,
 "nbformat_minor": 2
}
