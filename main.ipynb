{
 "cells": [
  {
   "cell_type": "code",
   "execution_count": 1,
   "metadata": {
    "execution": {
     "iopub.execute_input": "2024-06-27T08:56:38.848969Z",
     "iopub.status.busy": "2024-06-27T08:56:38.848073Z",
     "iopub.status.idle": "2024-06-27T08:56:42.407349Z",
     "shell.execute_reply": "2024-06-27T08:56:42.406536Z",
     "shell.execute_reply.started": "2024-06-27T08:56:38.848939Z"
    },
    "papermill": {
     "duration": 0.01842,
     "end_time": "2024-06-22T22:25:01.790016",
     "exception": false,
     "start_time": "2024-06-22T22:25:01.771596",
     "status": "completed"
    },
    "tags": [],
    "trusted": true
   },
   "outputs": [],
   "source": [
    "import time\n",
    "time_start = time.time()\n",
    "import os\n",
    "import torch\n",
    "import gc\n",
    "import math\n",
    "ON_KAGGLE = os.path.exists('/kaggle/input')\n",
    "ENABLE_SUBMISSION = True\n",
    "GENERATE_WHL = False\n",
    "os.environ[\"ON_KAGGLE\"] = str(ON_KAGGLE)\n",
    "env = None\n",
    "os.environ[\"USE_VLLM\"] = \"False\"\n",
    "# Clear cache, helps in re-running the notebook\n",
    "gc.collect()\n",
    "torch.cuda.empty_cache()\n",
    "# This is related to T4 GPU on collab\n",
    "torch.backends.cuda.enable_mem_efficient_sdp(False)\n",
    "torch.backends.cuda.enable_flash_sdp(False)"
   ]
  },
  {
   "cell_type": "code",
   "execution_count": null,
   "metadata": {
    "execution": {
     "iopub.execute_input": "2024-06-27T08:56:42.409178Z",
     "iopub.status.busy": "2024-06-27T08:56:42.408831Z"
    },
    "papermill": {
     "duration": 112.26536,
     "end_time": "2024-06-22T22:26:54.058526",
     "exception": false,
     "start_time": "2024-06-22T22:25:01.793166",
     "status": "completed"
    },
    "tags": [],
    "trusted": true
   },
   "outputs": [],
   "source": [
    "# Install required packages if on Kaggle\n",
    "if ON_KAGGLE:\n",
    "    !pip install -U /kaggle/input/accelerate-wheelwhl/accelerate-0.29.1-py3-none-any.whl -qq\n",
    "    !pip install -U /kaggle/input/bitsandbytes-0-42-0-py3-none-any-whl/bitsandbytes-0.42.0-py3-none-any.whl -qq\n",
    "    !pip install -U /kaggle/input/omegaconf222py3/antlr4_python3_runtime-4.9.3-py3-none-any.whl -qq\n",
    "    !pip install -U /kaggle/input/omegaconf222py3/omegaconf-2.2.2-py3-none-any.whl -qq\n",
    "    !pip install -U /kaggle/input/hydracore120py3/hydra_core-1.2.0-py3-none-any.whl -qq\n",
    "    !pip install -U /kaggle/input/parglare-0-18-0/parglare-0.18.0-py3-none-any.whl -qq\n",
    "    !pip install -U /kaggle/input/rank-bm25-whl/rank_bm25-0.2.2-py3-none-any.whl -qq\n",
    "    !pip install -U /kaggle/input/huggingface-trl-package/shtab-1.7.1-py3-none-any.whl -qq\n",
    "    !pip install -U /kaggle/input/huggingface-trl-package/tyro-0.7.3-py3-none-any.whl -qq\n",
    "    !pip install -U /kaggle/input/peft-0-11-1/peft-0.11.1-py3-none-any.whl -qq\n",
    "    !pip install -U /kaggle/input/huggingface-trl-package/trl-0.7.11-py3-none-any.whl -qq\n",
    "    !pip install -U /kaggle/input/amino-gaz-whl/aimo_gaz-0.0.1-py3-none-any.whl -qq --no-deps --force-reinstall\n",
    "else:\n",
    "    !pip install -r requirements.txt\n",
    "    !pip install -e . --force-reinstall\n",
    "if GENERATE_WHL:\n",
    "    !pip install --upgrade build\n",
    "    !python -m build"
   ]
  },
  {
   "cell_type": "code",
   "execution_count": null,
   "metadata": {
    "papermill": {
     "duration": 33.955339,
     "end_time": "2024-06-22T22:27:28.017009",
     "exception": false,
     "start_time": "2024-06-22T22:26:54.061670",
     "status": "completed"
    },
    "tags": [],
    "trusted": true
   },
   "outputs": [],
   "source": [
    "import time\n",
    "from clever_prover.solver.solver_and_tool_config import parse_solver_or_tool_config\n",
    "from clever_prover.utils.log_utils import setup_logger\n",
    "from hydra import compose, initialize\n",
    "\n",
    "config_path = '/kaggle/input/aimo-gaz-configs/configs' if ON_KAGGLE else 'src/clever_prover/configs'\n",
    "config_name = 'coordination_solver_config.yaml'\n",
    "\n",
    "# Setup the logger\n",
    "if \"CLEVER_PROVER_ROOT\" not in os.environ:\n",
    "    os.environ[\"CLEVER_PROVER_ROOT\"] = '/kaggle/working' if ON_KAGGLE else 'src/clever_prover'\n",
    "log_dir_name = \"logs\" if ON_KAGGLE else '.logs'\n",
    "root_dir = os.environ[\"CLEVER_PROVER_ROOT\"]\n",
    "# Check if the configs exists in the root directory\n",
    "if not os.path.exists(os.path.join(root_dir, 'configs')):\n",
    "    os.makedirs(os.path.join(root_dir, 'configs'))\n",
    "# Copy the configs to the root directory\n",
    "os.system(f'cp -r {config_path}/* {os.path.join(root_dir, \"configs\")}')\n",
    "# Create the logs directory\n",
    "if not os.path.exists(os.path.join(root_dir, log_dir_name)):\n",
    "    os.makedirs(os.path.join(root_dir, log_dir_name), exist_ok=True)\n",
    "time_str = time.strftime(\"%Y-%m-%d_%H-%M-%S\")\n",
    "os.makedirs(os.path.join(root_dir, log_dir_name, time_str), exist_ok=True)\n",
    "logger = setup_logger(\"clever_prover\", os.path.join(root_dir, log_dir_name, time_str, 'clever_prover.log'))\n",
    "logger.info(f\"Using config file: {config_name}\")\n",
    "with initialize(version_base=\"1.2\", config_path=\"configs/\", job_name=\"clever_prover\"):\n",
    "    cfg = compose(config_name=config_name) # Load the config file\n",
    "    solver_config = parse_solver_or_tool_config(cfg)\n",
    "solver = solver_config.get_solver_or_tool(logger=logger)\n",
    "assert solver is not None, \"Solver not initialized\"\n",
    "    "
   ]
  },
  {
   "cell_type": "code",
   "execution_count": null,
   "metadata": {
    "papermill": {
     "duration": 0.036219,
     "end_time": "2024-06-22T22:27:28.056329",
     "exception": false,
     "start_time": "2024-06-22T22:27:28.020110",
     "status": "completed"
    },
    "tags": [],
    "trusted": true
   },
   "outputs": [],
   "source": [
    "# Set up the evaluation API\n",
    "if ENABLE_SUBMISSION and ON_KAGGLE:\n",
    "    import aimo\n",
    "    if env is None:\n",
    "        env = aimo.make_env()\n",
    "    iter_test = env.iter_test()"
   ]
  },
  {
   "cell_type": "code",
   "execution_count": null,
   "metadata": {
    "papermill": {
     "duration": 118.880015,
     "end_time": "2024-06-22T22:29:26.939316",
     "exception": false,
     "start_time": "2024-06-22T22:27:28.059301",
     "status": "completed"
    },
    "tags": [],
    "trusted": true
   },
   "outputs": [],
   "source": [
    "if ENABLE_SUBMISSION and ON_KAGGLE:\n",
    "    prep_time = math.ceil(time.time() - time_start)\n",
    "    total_time_left = 9 * 60 * 60 - prep_time - 700 # 9 hours in seconds - time taken for preparation and grace time of 100s\n",
    "    test_problems = set([\"What is $1-1$?\", \"What is $0\\\\times10$?\", \"Solve $4+x=4$ for $x$.\"])\n",
    "    reduced_time_for_test_problems = 50\n",
    "    with solver:\n",
    "        problems_attempted = 0\n",
    "        total_problems = 50\n",
    "        # Iterate through the test set and use the model make predictions\n",
    "        for test, sample_submission in iter_test:\n",
    "            start_timer = time.time()\n",
    "            print(\"Problem statement:\\n\")\n",
    "            problem_statement = str(test['problem'][0])\n",
    "            print(problem_statement)\n",
    "            if problem_statement in test_problems:\n",
    "                time_allowed_to_solve = reduced_time_for_test_problems\n",
    "            else:\n",
    "                time_allowed_to_solve = total_time_left // (total_problems - problems_attempted)\n",
    "            print(f\"Time allowed to solve {time_allowed_to_solve}\")\n",
    "            sample_submission['answer'] = solver.solve(problem_statement, time_allowed = time_allowed_to_solve)\n",
    "            env.predict(sample_submission)\n",
    "            print(\"Submission:\\n\")\n",
    "            print(sample_submission, '\\n')\n",
    "            print(\"=\"*50)\n",
    "            time_to_attempt = math.ceil(time.time() - start_timer)\n",
    "            total_time_left -= time_to_attempt\n",
    "            problems_attempted += 1\n",
    "            if total_time_left <= 0:\n",
    "                break"
   ]
  }
 ],
 "metadata": {
  "kaggle": {
   "accelerator": "nvidiaTeslaT4",
   "dataSources": [
    {
     "databundleVersionId": 8365361,
     "sourceId": 73231,
     "sourceType": "competition"
    },
    {
     "datasetId": 2398033,
     "sourceId": 4053053,
     "sourceType": "datasetVersion"
    },
    {
     "datasetId": 2418291,
     "sourceId": 4086339,
     "sourceType": "datasetVersion"
    },
    {
     "datasetId": 4281572,
     "sourceId": 7369493,
     "sourceType": "datasetVersion"
    },
    {
     "datasetId": 4615754,
     "sourceId": 7867367,
     "sourceType": "datasetVersion"
    },
    {
     "datasetId": 4728129,
     "sourceId": 8023365,
     "sourceType": "datasetVersion"
    },
    {
     "datasetId": 4748944,
     "sourceId": 8052555,
     "sourceType": "datasetVersion"
    },
    {
     "datasetId": 4819800,
     "sourceId": 8149693,
     "sourceType": "datasetVersion"
    },
    {
     "datasetId": 5222750,
     "sourceId": 8706919,
     "sourceType": "datasetVersion"
    },
    {
     "datasetId": 5223082,
     "sourceId": 8707395,
     "sourceType": "datasetVersion"
    },
    {
     "datasetId": 5223138,
     "sourceId": 8707489,
     "sourceType": "datasetVersion"
    },
    {
     "datasetId": 5223654,
     "sourceId": 8708282,
     "sourceType": "datasetVersion"
    },
    {
     "datasetId": 5223698,
     "sourceId": 8708340,
     "sourceType": "datasetVersion"
    },
    {
     "datasetId": 5263819,
     "sourceId": 8800539,
     "sourceType": "datasetVersion"
    },
    {
     "datasetId": 5223302,
     "sourceId": 8800358,
     "sourceType": "datasetVersion"
    }
   ],
   "dockerImageVersionId": 30732,
   "isGpuEnabled": true,
   "isInternetEnabled": false,
   "language": "python",
   "sourceType": "notebook"
  },
  "kernelspec": {
   "display_name": "Python 3",
   "language": "python",
   "name": "python3"
  },
  "language_info": {
   "codemirror_mode": {
    "name": "ipython",
    "version": 3
   },
   "file_extension": ".py",
   "mimetype": "text/x-python",
   "name": "python",
   "nbconvert_exporter": "python",
   "pygments_lexer": "ipython3",
   "version": "3.10.13"
  },
  "papermill": {
   "default_parameters": {},
   "duration": 272.023448,
   "end_time": "2024-06-22T22:29:29.890355",
   "environment_variables": {},
   "exception": null,
   "input_path": "__notebook__.ipynb",
   "output_path": "__notebook__.ipynb",
   "parameters": {},
   "start_time": "2024-06-22T22:24:57.866907",
   "version": "2.5.0"
  },
  "widgets": {
   "application/vnd.jupyter.widget-state+json": {
    "state": {
     "0da7620dc2854885a88d3c5aca1f8de1": {
      "model_module": "@jupyter-widgets/controls",
      "model_module_version": "1.5.0",
      "model_name": "HTMLModel",
      "state": {
       "_dom_classes": [],
       "_model_module": "@jupyter-widgets/controls",
       "_model_module_version": "1.5.0",
       "_model_name": "HTMLModel",
       "_view_count": null,
       "_view_module": "@jupyter-widgets/controls",
       "_view_module_version": "1.5.0",
       "_view_name": "HTMLView",
       "description": "",
       "description_tooltip": null,
       "layout": "IPY_MODEL_e51797acbeda47ee9f0984077c43c9ad",
       "placeholder": "​",
       "style": "IPY_MODEL_58f367d350be45128556252946c4d090",
       "value": " 3/3 [01:39&lt;00:00, 32.21s/it]"
      }
     },
     "114dc8b22e544c84b2547b8a1a076512": {
      "model_module": "@jupyter-widgets/controls",
      "model_module_version": "1.5.0",
      "model_name": "DescriptionStyleModel",
      "state": {
       "_model_module": "@jupyter-widgets/controls",
       "_model_module_version": "1.5.0",
       "_model_name": "DescriptionStyleModel",
       "_view_count": null,
       "_view_module": "@jupyter-widgets/base",
       "_view_module_version": "1.2.0",
       "_view_name": "StyleView",
       "description_width": ""
      }
     },
     "1f97b0ce8b2e416ebc8e58fa6eccafac": {
      "model_module": "@jupyter-widgets/controls",
      "model_module_version": "1.5.0",
      "model_name": "HTMLModel",
      "state": {
       "_dom_classes": [],
       "_model_module": "@jupyter-widgets/controls",
       "_model_module_version": "1.5.0",
       "_model_name": "HTMLModel",
       "_view_count": null,
       "_view_module": "@jupyter-widgets/controls",
       "_view_module_version": "1.5.0",
       "_view_name": "HTMLView",
       "description": "",
       "description_tooltip": null,
       "layout": "IPY_MODEL_504d7e78f31b426ab38ce7a58b74ac0d",
       "placeholder": "​",
       "style": "IPY_MODEL_114dc8b22e544c84b2547b8a1a076512",
       "value": "Loading checkpoint shards: 100%"
      }
     },
     "281867fd08c44bb6b7bf8ecc5b8b389b": {
      "model_module": "@jupyter-widgets/controls",
      "model_module_version": "1.5.0",
      "model_name": "HBoxModel",
      "state": {
       "_dom_classes": [],
       "_model_module": "@jupyter-widgets/controls",
       "_model_module_version": "1.5.0",
       "_model_name": "HBoxModel",
       "_view_count": null,
       "_view_module": "@jupyter-widgets/controls",
       "_view_module_version": "1.5.0",
       "_view_name": "HBoxView",
       "box_style": "",
       "children": [
        "IPY_MODEL_1f97b0ce8b2e416ebc8e58fa6eccafac",
        "IPY_MODEL_f90075bba4b84f49ba6cb53a64750fed",
        "IPY_MODEL_0da7620dc2854885a88d3c5aca1f8de1"
       ],
       "layout": "IPY_MODEL_a207bc4c0e2b48e0ab0eefd5d80215bd"
      }
     },
     "504d7e78f31b426ab38ce7a58b74ac0d": {
      "model_module": "@jupyter-widgets/base",
      "model_module_version": "1.2.0",
      "model_name": "LayoutModel",
      "state": {
       "_model_module": "@jupyter-widgets/base",
       "_model_module_version": "1.2.0",
       "_model_name": "LayoutModel",
       "_view_count": null,
       "_view_module": "@jupyter-widgets/base",
       "_view_module_version": "1.2.0",
       "_view_name": "LayoutView",
       "align_content": null,
       "align_items": null,
       "align_self": null,
       "border": null,
       "bottom": null,
       "display": null,
       "flex": null,
       "flex_flow": null,
       "grid_area": null,
       "grid_auto_columns": null,
       "grid_auto_flow": null,
       "grid_auto_rows": null,
       "grid_column": null,
       "grid_gap": null,
       "grid_row": null,
       "grid_template_areas": null,
       "grid_template_columns": null,
       "grid_template_rows": null,
       "height": null,
       "justify_content": null,
       "justify_items": null,
       "left": null,
       "margin": null,
       "max_height": null,
       "max_width": null,
       "min_height": null,
       "min_width": null,
       "object_fit": null,
       "object_position": null,
       "order": null,
       "overflow": null,
       "overflow_x": null,
       "overflow_y": null,
       "padding": null,
       "right": null,
       "top": null,
       "visibility": null,
       "width": null
      }
     },
     "58f367d350be45128556252946c4d090": {
      "model_module": "@jupyter-widgets/controls",
      "model_module_version": "1.5.0",
      "model_name": "DescriptionStyleModel",
      "state": {
       "_model_module": "@jupyter-widgets/controls",
       "_model_module_version": "1.5.0",
       "_model_name": "DescriptionStyleModel",
       "_view_count": null,
       "_view_module": "@jupyter-widgets/base",
       "_view_module_version": "1.2.0",
       "_view_name": "StyleView",
       "description_width": ""
      }
     },
     "93b3fad2238a4708b56b9c20b2a8e05f": {
      "model_module": "@jupyter-widgets/base",
      "model_module_version": "1.2.0",
      "model_name": "LayoutModel",
      "state": {
       "_model_module": "@jupyter-widgets/base",
       "_model_module_version": "1.2.0",
       "_model_name": "LayoutModel",
       "_view_count": null,
       "_view_module": "@jupyter-widgets/base",
       "_view_module_version": "1.2.0",
       "_view_name": "LayoutView",
       "align_content": null,
       "align_items": null,
       "align_self": null,
       "border": null,
       "bottom": null,
       "display": null,
       "flex": null,
       "flex_flow": null,
       "grid_area": null,
       "grid_auto_columns": null,
       "grid_auto_flow": null,
       "grid_auto_rows": null,
       "grid_column": null,
       "grid_gap": null,
       "grid_row": null,
       "grid_template_areas": null,
       "grid_template_columns": null,
       "grid_template_rows": null,
       "height": null,
       "justify_content": null,
       "justify_items": null,
       "left": null,
       "margin": null,
       "max_height": null,
       "max_width": null,
       "min_height": null,
       "min_width": null,
       "object_fit": null,
       "object_position": null,
       "order": null,
       "overflow": null,
       "overflow_x": null,
       "overflow_y": null,
       "padding": null,
       "right": null,
       "top": null,
       "visibility": null,
       "width": null
      }
     },
     "a207bc4c0e2b48e0ab0eefd5d80215bd": {
      "model_module": "@jupyter-widgets/base",
      "model_module_version": "1.2.0",
      "model_name": "LayoutModel",
      "state": {
       "_model_module": "@jupyter-widgets/base",
       "_model_module_version": "1.2.0",
       "_model_name": "LayoutModel",
       "_view_count": null,
       "_view_module": "@jupyter-widgets/base",
       "_view_module_version": "1.2.0",
       "_view_name": "LayoutView",
       "align_content": null,
       "align_items": null,
       "align_self": null,
       "border": null,
       "bottom": null,
       "display": null,
       "flex": null,
       "flex_flow": null,
       "grid_area": null,
       "grid_auto_columns": null,
       "grid_auto_flow": null,
       "grid_auto_rows": null,
       "grid_column": null,
       "grid_gap": null,
       "grid_row": null,
       "grid_template_areas": null,
       "grid_template_columns": null,
       "grid_template_rows": null,
       "height": null,
       "justify_content": null,
       "justify_items": null,
       "left": null,
       "margin": null,
       "max_height": null,
       "max_width": null,
       "min_height": null,
       "min_width": null,
       "object_fit": null,
       "object_position": null,
       "order": null,
       "overflow": null,
       "overflow_x": null,
       "overflow_y": null,
       "padding": null,
       "right": null,
       "top": null,
       "visibility": null,
       "width": null
      }
     },
     "cdb47d6fd1fa4177a7e453afde09c770": {
      "model_module": "@jupyter-widgets/controls",
      "model_module_version": "1.5.0",
      "model_name": "ProgressStyleModel",
      "state": {
       "_model_module": "@jupyter-widgets/controls",
       "_model_module_version": "1.5.0",
       "_model_name": "ProgressStyleModel",
       "_view_count": null,
       "_view_module": "@jupyter-widgets/base",
       "_view_module_version": "1.2.0",
       "_view_name": "StyleView",
       "bar_color": null,
       "description_width": ""
      }
     },
     "e51797acbeda47ee9f0984077c43c9ad": {
      "model_module": "@jupyter-widgets/base",
      "model_module_version": "1.2.0",
      "model_name": "LayoutModel",
      "state": {
       "_model_module": "@jupyter-widgets/base",
       "_model_module_version": "1.2.0",
       "_model_name": "LayoutModel",
       "_view_count": null,
       "_view_module": "@jupyter-widgets/base",
       "_view_module_version": "1.2.0",
       "_view_name": "LayoutView",
       "align_content": null,
       "align_items": null,
       "align_self": null,
       "border": null,
       "bottom": null,
       "display": null,
       "flex": null,
       "flex_flow": null,
       "grid_area": null,
       "grid_auto_columns": null,
       "grid_auto_flow": null,
       "grid_auto_rows": null,
       "grid_column": null,
       "grid_gap": null,
       "grid_row": null,
       "grid_template_areas": null,
       "grid_template_columns": null,
       "grid_template_rows": null,
       "height": null,
       "justify_content": null,
       "justify_items": null,
       "left": null,
       "margin": null,
       "max_height": null,
       "max_width": null,
       "min_height": null,
       "min_width": null,
       "object_fit": null,
       "object_position": null,
       "order": null,
       "overflow": null,
       "overflow_x": null,
       "overflow_y": null,
       "padding": null,
       "right": null,
       "top": null,
       "visibility": null,
       "width": null
      }
     },
     "f90075bba4b84f49ba6cb53a64750fed": {
      "model_module": "@jupyter-widgets/controls",
      "model_module_version": "1.5.0",
      "model_name": "FloatProgressModel",
      "state": {
       "_dom_classes": [],
       "_model_module": "@jupyter-widgets/controls",
       "_model_module_version": "1.5.0",
       "_model_name": "FloatProgressModel",
       "_view_count": null,
       "_view_module": "@jupyter-widgets/controls",
       "_view_module_version": "1.5.0",
       "_view_name": "ProgressView",
       "bar_style": "success",
       "description": "",
       "description_tooltip": null,
       "layout": "IPY_MODEL_93b3fad2238a4708b56b9c20b2a8e05f",
       "max": 3,
       "min": 0,
       "orientation": "horizontal",
       "style": "IPY_MODEL_cdb47d6fd1fa4177a7e453afde09c770",
       "value": 3
      }
     }
    },
    "version_major": 2,
    "version_minor": 0
   }
  }
 },
 "nbformat": 4,
 "nbformat_minor": 5
}
